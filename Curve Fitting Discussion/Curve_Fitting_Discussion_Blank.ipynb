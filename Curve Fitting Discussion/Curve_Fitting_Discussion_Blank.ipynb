{
 "cells": [
  {
   "cell_type": "markdown",
   "id": "35f1df4d",
   "metadata": {},
   "source": [
    "# Discussion: Curve-Fitting"
   ]
  },
  {
   "cell_type": "code",
   "execution_count": null,
   "id": "4c87f2eb",
   "metadata": {},
   "outputs": [],
   "source": [
    "import pandas as pd\n",
    "import numpy as np\n",
    "import matplotlib.pyplot as plt\n",
    "import scipy.optimize as fit"
   ]
  },
  {
   "cell_type": "markdown",
   "id": "aaa8e9b2",
   "metadata": {},
   "source": [
    "1) Importing Data\n",
    "\n",
    "- Go to bcourses -> Discussions -> Curve Fitting Discussion and download the \"ch4_annmean_gl.csv\" file\n",
    "- Use pandas to open the file and create a DataFrame (Hint: What type of file is the data?)\n",
    " (Hint 2: there is an argument in pd.read_csv() called skiprows where you can skip non-data rows)\n",
    "- Display the DataFrame as a table. What is each column header?"
   ]
  },
  {
   "cell_type": "code",
   "execution_count": null,
   "id": "568cf39a",
   "metadata": {},
   "outputs": [],
   "source": []
  },
  {
   "cell_type": "code",
   "execution_count": null,
   "id": "3d150aab",
   "metadata": {},
   "outputs": [],
   "source": []
  },
  {
   "cell_type": "markdown",
   "id": "7068a04d",
   "metadata": {},
   "source": [
    "2. Plotting the Data\n",
    "- Use matplotlib to plot the data\n",
    "- What kind of function does the data look like?"
   ]
  },
  {
   "cell_type": "code",
   "execution_count": null,
   "id": "a562eca4",
   "metadata": {},
   "outputs": [],
   "source": []
  },
  {
   "cell_type": "code",
   "execution_count": null,
   "id": "c5bb1074",
   "metadata": {},
   "outputs": [],
   "source": []
  },
  {
   "cell_type": "markdown",
   "id": "256b048f",
   "metadata": {},
   "source": [
    "3. Curve-Fitting\n",
    "- Make a function for the chosen model\n",
    "- Use scipy.optimize.curve_fit to fit your data to the chosen model \n",
    "- Look at last lecture's notes if you forgot"
   ]
  },
  {
   "cell_type": "code",
   "execution_count": null,
   "id": "1b19393d",
   "metadata": {},
   "outputs": [],
   "source": []
  },
  {
   "cell_type": "code",
   "execution_count": null,
   "id": "21009c46",
   "metadata": {},
   "outputs": [],
   "source": []
  },
  {
   "cell_type": "markdown",
   "id": "1a362168",
   "metadata": {},
   "source": [
    "4. Chi-Square: Calculating Error\n",
    "- The equation for chi-square is:\n",
    "$$\\chi^2 = \\Sigma\\frac{(y_{measured} - y_{expected})^2}{\\sigma^2} $$\n",
    "- Try and convert this into Python for the data we have and calculate the chi-square test statistic for our model and the data"
   ]
  },
  {
   "cell_type": "code",
   "execution_count": null,
   "id": "cd4247b0",
   "metadata": {},
   "outputs": [],
   "source": []
  },
  {
   "cell_type": "code",
   "execution_count": null,
   "id": "23ce5f56",
   "metadata": {},
   "outputs": [],
   "source": []
  },
  {
   "cell_type": "markdown",
   "id": "f49fb459",
   "metadata": {},
   "source": [
    "5. Plotting Part 2\n",
    "- Make a plot of the fitted model and data points"
   ]
  },
  {
   "cell_type": "code",
   "execution_count": null,
   "id": "5638aea2",
   "metadata": {},
   "outputs": [],
   "source": []
  }
 ],
 "metadata": {
  "kernelspec": {
   "display_name": "Python 3 (ipykernel)",
   "language": "python",
   "name": "python3"
  },
  "language_info": {
   "codemirror_mode": {
    "name": "ipython",
    "version": 3
   },
   "file_extension": ".py",
   "mimetype": "text/x-python",
   "name": "python",
   "nbconvert_exporter": "python",
   "pygments_lexer": "ipython3",
   "version": "3.11.2"
  }
 },
 "nbformat": 4,
 "nbformat_minor": 5
}
