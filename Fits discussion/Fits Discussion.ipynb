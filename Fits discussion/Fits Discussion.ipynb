{
 "cells": [
  {
   "cell_type": "code",
   "execution_count": 36,
   "id": "14aee86d",
   "metadata": {},
   "outputs": [
    {
     "name": "stdout",
     "output_type": "stream",
     "text": [
      "Filename: fits_file_disc(2).fits\n",
      "No.    Name      Ver    Type      Cards   Dimensions   Format\n",
      "  0  PRIMARY       1 PrimaryHDU       4   ()      \n",
      "  1                1 BinTableHDU     12   31023R x 2C   [E, E]   \n"
     ]
    },
    {
     "data": {
      "image/png": "[encoded data removed]",
      "text/plain": [
       "<Figure size 640x480 with 1 Axes>"
      ]
     },
     "metadata": {},
     "output_type": "display_data"
    }
   ],
   "source": [
    "from astropy.io import fits\n",
    "import matplotlib.pyplot as plt\n",
    "pluh = fits.open('fits_file_disc(2).fits')\n",
    "pluh.info()\n",
    "aztec = pluh[1].data\n",
    "from astropy.table import Table\n",
    "\n",
    "Maya = Table(aztec)\n",
    "x = Maya['Wavelength (Angstroms)'].data\n",
    "y = Maya['Flux'].data\n",
    "plt.figure()\n",
    "plt.hist2d(x,y)\n",
    "plt.xlabel('Wavelength (Angstroms)')\n",
    "plt.ylabel('Flux')\n",
    "plt.title('The thingy')\n",
    "plt.show()"
   ]
  },
  {
   "cell_type": "code",
   "execution_count": 17,
   "id": "de61e3ae",
   "metadata": {},
   "outputs": [
    {
     "data": {
      "text/html": [
       "<div><i>Table length=31023</i>\n",
       "<table id=\"table2589271247568\" class=\"table-striped table-bordered table-condensed\">\n",
       "<thead><tr><th>Wavelength (Angstroms)</th><th>Flux</th></tr></thead>\n",
       "<thead><tr><th>float32</th><th>float32</th></tr></thead>\n",
       "<tr><td>500.0</td><td>4.3531495e-10</td></tr>\n",
       "<tr><td>500.0834</td><td>4.3527074e-10</td></tr>\n",
       "<tr><td>500.1668</td><td>4.352193e-10</td></tr>\n",
       "<tr><td>500.25024</td><td>4.3516749e-10</td></tr>\n",
       "<tr><td>500.33368</td><td>4.3511983e-10</td></tr>\n",
       "<tr><td>500.4171</td><td>4.3507212e-10</td></tr>\n",
       "<tr><td>500.50058</td><td>4.350249e-10</td></tr>\n",
       "<tr><td>500.58408</td><td>4.3498677e-10</td></tr>\n",
       "<tr><td>500.66757</td><td>4.3494736e-10</td></tr>\n",
       "<tr><td>...</td><td>...</td></tr>\n",
       "<tr><td>59925.56</td><td>5.2492927e-10</td></tr>\n",
       "<tr><td>59935.547</td><td>5.2475346e-10</td></tr>\n",
       "<tr><td>59945.55</td><td>5.245976e-10</td></tr>\n",
       "<tr><td>59955.55</td><td>5.244465e-10</td></tr>\n",
       "<tr><td>59965.55</td><td>5.2427457e-10</td></tr>\n",
       "<tr><td>59975.55</td><td>5.241046e-10</td></tr>\n",
       "<tr><td>59985.55</td><td>5.2395444e-10</td></tr>\n",
       "<tr><td>59995.562</td><td>5.2378674e-10</td></tr>\n",
       "<tr><td>60005.562</td><td>5.2362126e-10</td></tr>\n",
       "<tr><td>60015.574</td><td>5.2347715e-10</td></tr>\n",
       "</table></div>"
      ],
      "text/plain": [
       "<Table length=31023>\n",
       "Wavelength (Angstroms)      Flux    \n",
       "       float32            float32   \n",
       "---------------------- -------------\n",
       "                 500.0 4.3531495e-10\n",
       "              500.0834 4.3527074e-10\n",
       "              500.1668  4.352193e-10\n",
       "             500.25024 4.3516749e-10\n",
       "             500.33368 4.3511983e-10\n",
       "              500.4171 4.3507212e-10\n",
       "             500.50058  4.350249e-10\n",
       "             500.58408 4.3498677e-10\n",
       "             500.66757 4.3494736e-10\n",
       "                   ...           ...\n",
       "              59925.56 5.2492927e-10\n",
       "             59935.547 5.2475346e-10\n",
       "              59945.55  5.245976e-10\n",
       "              59955.55  5.244465e-10\n",
       "              59965.55 5.2427457e-10\n",
       "              59975.55  5.241046e-10\n",
       "              59985.55 5.2395444e-10\n",
       "             59995.562 5.2378674e-10\n",
       "             60005.562 5.2362126e-10\n",
       "             60015.574 5.2347715e-10"
      ]
     },
     "execution_count": 17,
     "metadata": {},
     "output_type": "execute_result"
    }
   ],
   "source": [
    "Table(aztec)"
   ]
  },
  {
   "cell_type": "code",
   "execution_count": 28,
   "id": "3ca3d0b2",
   "metadata": {},
   "outputs": [
    {
     "name": "stdout",
     "output_type": "stream",
     "text": [
      "marissa is now 2.5000000000000002e+33\n",
      "marissa got a new job! She now has 3 jobs!\n",
      "marissa got a new job! She now has 4 jobs!\n",
      "marissa got a new job! She now has 5 jobs!\n",
      "marissa got a new job! She now has 6 jobs!\n",
      "marissa got a new job! She now has 7 jobs!\n",
      "marissa got a new job! She now has 8 jobs!\n",
      "marissa got a new job! She now has 9 jobs!\n",
      "marissa got a new job! She now has 10 jobs!\n",
      "marissa got a new job! She now has 11 jobs!\n",
      "marissa got a new job! She now has 12 jobs!\n",
      "marissa got a new job! She now has 13 jobs!\n",
      "marissa got a new job! She now has 14 jobs!\n",
      "marissa got a new job! She now has 15 jobs!\n",
      "marissa got a new job! She now has 16 jobs!\n",
      "marissa got a new job! She now has 17 jobs!\n",
      "marissa got a new job! She now has 18 jobs!\n",
      "marissa got a new job! She now has 19 jobs!\n",
      "marissa got HELLA HELLA bread finna watch that money spread\n"
     ]
    }
   ],
   "source": [
    "import random\n",
    "class woman:\n",
    "    def __init__(self, name, age, num_of_occupation, city):\n",
    "        self.name = name\n",
    "        self.age = age\n",
    "        self.num_of_occupation = num_of_occupation\n",
    "        self.city = city\n",
    "        self.babies = 0\n",
    "    def study(self):\n",
    "        self.num_of_occupation += 1\n",
    "        print(self.name, \"got a new job! She now has\", self.num_of_occupation, \"jobs!\")\n",
    "    def walking(self, miles):\n",
    "        self.age = (miles/100)*self.age\n",
    "        print(self.name, \"is now\", self.age)\n",
    "    def adopt(self):\n",
    "        self.babies += 1\n",
    "        print(self.name, \"has this many babiesL:\", self.babies)\n",
    "    def bread(self,monies):\n",
    "        if monies < 100:\n",
    "            print(self.name, \"Need to get her bread up\")\n",
    "        if monies >= 100 and monies < 1000:\n",
    "            print(self.name, \"got HELLA bread fr fr\")\n",
    "        if monies >= 1000:\n",
    "            print(self.name, \"got HELLA HELLA bread finna watch that money spread\")\n",
    "Marissa = woman(name=\"marissa\",age=25,num_of_occupation = 2,city = 'Tulsa')\n",
    "Marissa.walking(10000000000000000000000000000000000)\n",
    "while True:\n",
    "    thingy = random.randint(1,10)\n",
    "    if thingy !=1:\n",
    "        Marissa.study()\n",
    "    if thingy == 1:\n",
    "        break\n",
    "Marissa.bread(10000)"
   ]
  },
  {
   "cell_type": "code",
   "execution_count": 15,
   "id": "9a86e597",
   "metadata": {},
   "outputs": [
    {
     "ename": "NameError",
     "evalue": "name 'd' is not defined",
     "output_type": "error",
     "traceback": [
      "\u001b[1;31m---------------------------------------------------------------------------\u001b[0m",
      "\u001b[1;31mNameError\u001b[0m                                 Traceback (most recent call last)",
      "Cell \u001b[1;32mIn[15], line 1\u001b[0m\n\u001b[1;32m----> 1\u001b[0m d\n",
      "\u001b[1;31mNameError\u001b[0m: name 'd' is not defined"
     ]
    }
   ],
   "source": [
    "d"
   ]
  },
  {
   "cell_type": "code",
   "execution_count": null,
   "id": "12d7b2a8",
   "metadata": {},
   "outputs": [],
   "source": []
  }
 ],
 "metadata": {
  "kernelspec": {
   "display_name": "base",
   "language": "python",
   "name": "python3"
  },
  "language_info": {
   "codemirror_mode": {
    "name": "ipython",
    "version": 3
   },
   "file_extension": ".py",
   "mimetype": "text/x-python",
   "name": "python",
   "nbconvert_exporter": "python",
   "pygments_lexer": "ipython3",
   "version": "3.12.7"
  }
 },
 "nbformat": 4,
 "nbformat_minor": 5
}
